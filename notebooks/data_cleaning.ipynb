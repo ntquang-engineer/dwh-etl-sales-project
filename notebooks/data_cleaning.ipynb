{
 "cells": [
  {
   "cell_type": "code",
   "execution_count": 8,
   "id": "1777106b-9c9f-4c7b-863e-2a90eeec0fa2",
   "metadata": {},
   "outputs": [],
   "source": [
    "import pandas as pd\n",
    "import os \n",
    "os.makedirs(\"../staging\",exist_ok=True)"
   ]
  },
  {
   "cell_type": "code",
   "execution_count": 10,
   "id": "bfed9f6e-c573-4535-927b-89c70cddcb3a",
   "metadata": {},
   "outputs": [],
   "source": [
    "# đọc dữ liệu gốc\n",
    "df = pd.read_csv(\"data/sales_data.csv\")"
   ]
  },
  {
   "cell_type": "code",
   "execution_count": 11,
   "id": "1c2b024e-1371-4a04-86e4-8dbd2772ccac",
   "metadata": {},
   "outputs": [
    {
     "name": "stdout",
     "output_type": "stream",
     "text": [
      "   Product_ID   Sale_Date Sales_Rep Region  Sales_Amount  Quantity_Sold  \\\n",
      "0        1052  2023-02-03       Bob  North       5053.97             18   \n",
      "1        1093  2023-04-21       Bob   West       4384.02             17   \n",
      "2        1015  2023-09-21     David  South       4631.23             30   \n",
      "3        1072  2023-08-24       Bob  South       2167.94             39   \n",
      "4        1061  2023-03-24   Charlie   East       3750.20             13   \n",
      "\n",
      "  Product_Category  Unit_Cost  Unit_Price Customer_Type  Discount  \\\n",
      "0        Furniture     152.75      267.22     Returning      0.09   \n",
      "1        Furniture    3816.39     4209.44     Returning      0.11   \n",
      "2             Food     261.56      371.40     Returning      0.20   \n",
      "3         Clothing    4330.03     4467.75           New      0.02   \n",
      "4      Electronics     637.37      692.71           New      0.08   \n",
      "\n",
      "  Payment_Method Sales_Channel Region_and_Sales_Rep  \n",
      "0           Cash        Online            North-Bob  \n",
      "1           Cash        Retail             West-Bob  \n",
      "2  Bank Transfer        Retail          South-David  \n",
      "3    Credit Card        Retail            South-Bob  \n",
      "4    Credit Card        Online         East-Charlie  \n"
     ]
    }
   ],
   "source": [
    "print(df.head())"
   ]
  },
  {
   "cell_type": "code",
   "execution_count": 12,
   "id": "1b43e882-2091-40ae-86f3-d595eb69aa2a",
   "metadata": {},
   "outputs": [],
   "source": [
    "#xóa các dòng trống hoàn toàn\n",
    "df.dropna(how='all',inplace = True)"
   ]
  },
  {
   "cell_type": "code",
   "execution_count": 13,
   "id": "765e3573-2a10-417f-b1a1-fde6a09dd674",
   "metadata": {},
   "outputs": [],
   "source": [
    "# chuẩn hóa tên cột\n",
    "df.columns=[col.strip().replace(\" \", \"_\") for col in df.columns]"
   ]
  },
  {
   "cell_type": "code",
   "execution_count": 14,
   "id": "74980ff6-2582-440f-907a-b99b5d49de04",
   "metadata": {},
   "outputs": [],
   "source": [
    "# định dạng cột ngày\n",
    "if 'Sale_Date' in df.columns:\n",
    "    df['Sale_Date']= pd.to_datetime(df['Sale_Date'],errors ='coerce')"
   ]
  },
  {
   "cell_type": "code",
   "execution_count": 15,
   "id": "07cd0b68-aa8f-4128-8aa5-2057b0e5e1b8",
   "metadata": {},
   "outputs": [],
   "source": [
    "# loại bỏ các dòng có ngày không hợp lệ\n",
    "df = df[df['Sale_Date'].notnull()]"
   ]
  },
  {
   "cell_type": "code",
   "execution_count": 16,
   "id": "291fca79-816f-4202-a841-de4402a44b9f",
   "metadata": {},
   "outputs": [],
   "source": [
    "# bổ sung xử lý nếu thiếu dữ liệu\n",
    "df.fillna({\n",
    "    'Discount':0,\n",
    "    'Customer_Type':'Unknown',\n",
    "    'Payment_Method':'Unknown'\n",
    "},inplace=True)"
   ]
  },
  {
   "cell_type": "code",
   "execution_count": 17,
   "id": "0c1cae8c-78df-49e6-b831-ec0f0f426e46",
   "metadata": {},
   "outputs": [
    {
     "name": "stdout",
     "output_type": "stream",
     "text": [
      "   Product_ID  Sale_Date Sales_Rep Region  Sales_Amount  Quantity_Sold  \\\n",
      "0        1052 2023-02-03       Bob  North       5053.97             18   \n",
      "1        1093 2023-04-21       Bob   West       4384.02             17   \n",
      "2        1015 2023-09-21     David  South       4631.23             30   \n",
      "3        1072 2023-08-24       Bob  South       2167.94             39   \n",
      "4        1061 2023-03-24   Charlie   East       3750.20             13   \n",
      "\n",
      "  Product_Category  Unit_Cost  Unit_Price Customer_Type  Discount  \\\n",
      "0        Furniture     152.75      267.22     Returning      0.09   \n",
      "1        Furniture    3816.39     4209.44     Returning      0.11   \n",
      "2             Food     261.56      371.40     Returning      0.20   \n",
      "3         Clothing    4330.03     4467.75           New      0.02   \n",
      "4      Electronics     637.37      692.71           New      0.08   \n",
      "\n",
      "  Payment_Method Sales_Channel Region_and_Sales_Rep  \n",
      "0           Cash        Online            North-Bob  \n",
      "1           Cash        Retail             West-Bob  \n",
      "2  Bank Transfer        Retail          South-David  \n",
      "3    Credit Card        Retail            South-Bob  \n",
      "4    Credit Card        Online         East-Charlie  \n"
     ]
    }
   ],
   "source": [
    "print(df.head())"
   ]
  },
  {
   "cell_type": "code",
   "execution_count": 25,
   "id": "e7b73212-a877-4f07-8e4c-3e349fb5d38d",
   "metadata": {},
   "outputs": [],
   "source": [
    "# ghi dữ liệu sau khi lọc sạch vào staging\n",
    "df.to_csv(\"staging/stg_sales_cleaned.csv\", index=False)"
   ]
  }
 ],
 "metadata": {
  "kernelspec": {
   "display_name": "Python 3 (ipykernel)",
   "language": "python",
   "name": "python3"
  },
  "language_info": {
   "codemirror_mode": {
    "name": "ipython",
    "version": 3
   },
   "file_extension": ".py",
   "mimetype": "text/x-python",
   "name": "python",
   "nbconvert_exporter": "python",
   "pygments_lexer": "ipython3",
   "version": "3.13.5"
  }
 },
 "nbformat": 4,
 "nbformat_minor": 5
}
