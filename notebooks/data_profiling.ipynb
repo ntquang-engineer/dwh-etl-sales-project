{
 "cells": [
  {
   "cell_type": "code",
   "execution_count": 4,
   "id": "c5f06380-d65f-49bb-8a51-847c527a19b1",
   "metadata": {},
   "outputs": [],
   "source": [
    "import pandas as pd\n",
    "df = pd.read_csv('/Users/ADMIN/Documents/sales_dw_project/staging/stg_sales_cleaned.csv', parse_dates=['Sale_Date'])"
   ]
  },
  {
   "cell_type": "code",
   "execution_count": 5,
   "id": "d2a51d5e-30da-4b0f-91a5-91f5fe5d97aa",
   "metadata": {},
   "outputs": [
    {
     "data": {
      "text/html": [
       "<div>\n",
       "<style scoped>\n",
       "    .dataframe tbody tr th:only-of-type {\n",
       "        vertical-align: middle;\n",
       "    }\n",
       "\n",
       "    .dataframe tbody tr th {\n",
       "        vertical-align: top;\n",
       "    }\n",
       "\n",
       "    .dataframe thead th {\n",
       "        text-align: right;\n",
       "    }\n",
       "</style>\n",
       "<table border=\"1\" class=\"dataframe\">\n",
       "  <thead>\n",
       "    <tr style=\"text-align: right;\">\n",
       "      <th></th>\n",
       "      <th>Product_ID</th>\n",
       "      <th>Sale_Date</th>\n",
       "      <th>Sales_Rep</th>\n",
       "      <th>Region</th>\n",
       "      <th>Sales_Amount</th>\n",
       "      <th>Quantity_Sold</th>\n",
       "      <th>Product_Category</th>\n",
       "      <th>Unit_Cost</th>\n",
       "      <th>Unit_Price</th>\n",
       "      <th>Customer_Type</th>\n",
       "      <th>Discount</th>\n",
       "      <th>Payment_Method</th>\n",
       "      <th>Sales_Channel</th>\n",
       "      <th>Region_and_Sales_Rep</th>\n",
       "    </tr>\n",
       "  </thead>\n",
       "  <tbody>\n",
       "    <tr>\n",
       "      <th>0</th>\n",
       "      <td>1052</td>\n",
       "      <td>2023-02-03</td>\n",
       "      <td>Bob</td>\n",
       "      <td>North</td>\n",
       "      <td>5053.97</td>\n",
       "      <td>18</td>\n",
       "      <td>Furniture</td>\n",
       "      <td>152.75</td>\n",
       "      <td>267.22</td>\n",
       "      <td>Returning</td>\n",
       "      <td>0.09</td>\n",
       "      <td>Cash</td>\n",
       "      <td>Online</td>\n",
       "      <td>North-Bob</td>\n",
       "    </tr>\n",
       "    <tr>\n",
       "      <th>1</th>\n",
       "      <td>1093</td>\n",
       "      <td>2023-04-21</td>\n",
       "      <td>Bob</td>\n",
       "      <td>West</td>\n",
       "      <td>4384.02</td>\n",
       "      <td>17</td>\n",
       "      <td>Furniture</td>\n",
       "      <td>3816.39</td>\n",
       "      <td>4209.44</td>\n",
       "      <td>Returning</td>\n",
       "      <td>0.11</td>\n",
       "      <td>Cash</td>\n",
       "      <td>Retail</td>\n",
       "      <td>West-Bob</td>\n",
       "    </tr>\n",
       "    <tr>\n",
       "      <th>2</th>\n",
       "      <td>1015</td>\n",
       "      <td>2023-09-21</td>\n",
       "      <td>David</td>\n",
       "      <td>South</td>\n",
       "      <td>4631.23</td>\n",
       "      <td>30</td>\n",
       "      <td>Food</td>\n",
       "      <td>261.56</td>\n",
       "      <td>371.40</td>\n",
       "      <td>Returning</td>\n",
       "      <td>0.20</td>\n",
       "      <td>Bank Transfer</td>\n",
       "      <td>Retail</td>\n",
       "      <td>South-David</td>\n",
       "    </tr>\n",
       "    <tr>\n",
       "      <th>3</th>\n",
       "      <td>1072</td>\n",
       "      <td>2023-08-24</td>\n",
       "      <td>Bob</td>\n",
       "      <td>South</td>\n",
       "      <td>2167.94</td>\n",
       "      <td>39</td>\n",
       "      <td>Clothing</td>\n",
       "      <td>4330.03</td>\n",
       "      <td>4467.75</td>\n",
       "      <td>New</td>\n",
       "      <td>0.02</td>\n",
       "      <td>Credit Card</td>\n",
       "      <td>Retail</td>\n",
       "      <td>South-Bob</td>\n",
       "    </tr>\n",
       "    <tr>\n",
       "      <th>4</th>\n",
       "      <td>1061</td>\n",
       "      <td>2023-03-24</td>\n",
       "      <td>Charlie</td>\n",
       "      <td>East</td>\n",
       "      <td>3750.20</td>\n",
       "      <td>13</td>\n",
       "      <td>Electronics</td>\n",
       "      <td>637.37</td>\n",
       "      <td>692.71</td>\n",
       "      <td>New</td>\n",
       "      <td>0.08</td>\n",
       "      <td>Credit Card</td>\n",
       "      <td>Online</td>\n",
       "      <td>East-Charlie</td>\n",
       "    </tr>\n",
       "  </tbody>\n",
       "</table>\n",
       "</div>"
      ],
      "text/plain": [
       "   Product_ID  Sale_Date Sales_Rep Region  Sales_Amount  Quantity_Sold  \\\n",
       "0        1052 2023-02-03       Bob  North       5053.97             18   \n",
       "1        1093 2023-04-21       Bob   West       4384.02             17   \n",
       "2        1015 2023-09-21     David  South       4631.23             30   \n",
       "3        1072 2023-08-24       Bob  South       2167.94             39   \n",
       "4        1061 2023-03-24   Charlie   East       3750.20             13   \n",
       "\n",
       "  Product_Category  Unit_Cost  Unit_Price Customer_Type  Discount  \\\n",
       "0        Furniture     152.75      267.22     Returning      0.09   \n",
       "1        Furniture    3816.39     4209.44     Returning      0.11   \n",
       "2             Food     261.56      371.40     Returning      0.20   \n",
       "3         Clothing    4330.03     4467.75           New      0.02   \n",
       "4      Electronics     637.37      692.71           New      0.08   \n",
       "\n",
       "  Payment_Method Sales_Channel Region_and_Sales_Rep  \n",
       "0           Cash        Online            North-Bob  \n",
       "1           Cash        Retail             West-Bob  \n",
       "2  Bank Transfer        Retail          South-David  \n",
       "3    Credit Card        Retail            South-Bob  \n",
       "4    Credit Card        Online         East-Charlie  "
      ]
     },
     "execution_count": 5,
     "metadata": {},
     "output_type": "execute_result"
    }
   ],
   "source": [
    "df.head()"
   ]
  },
  {
   "cell_type": "code",
   "execution_count": 6,
   "id": "a88806c0-d48b-4b70-ba3a-36db71da0006",
   "metadata": {},
   "outputs": [
    {
     "data": {
      "text/plain": [
       "(1000, 14)"
      ]
     },
     "execution_count": 6,
     "metadata": {},
     "output_type": "execute_result"
    }
   ],
   "source": [
    "df.shape # số hàng, số cột"
   ]
  },
  {
   "cell_type": "code",
   "execution_count": 8,
   "id": "a9c1e84e-39d0-408e-807b-35f2d38f1299",
   "metadata": {},
   "outputs": [
    {
     "name": "stdout",
     "output_type": "stream",
     "text": [
      "<class 'pandas.core.frame.DataFrame'>\n",
      "RangeIndex: 1000 entries, 0 to 999\n",
      "Data columns (total 14 columns):\n",
      " #   Column                Non-Null Count  Dtype         \n",
      "---  ------                --------------  -----         \n",
      " 0   Product_ID            1000 non-null   int64         \n",
      " 1   Sale_Date             1000 non-null   datetime64[ns]\n",
      " 2   Sales_Rep             1000 non-null   object        \n",
      " 3   Region                1000 non-null   object        \n",
      " 4   Sales_Amount          1000 non-null   float64       \n",
      " 5   Quantity_Sold         1000 non-null   int64         \n",
      " 6   Product_Category      1000 non-null   object        \n",
      " 7   Unit_Cost             1000 non-null   float64       \n",
      " 8   Unit_Price            1000 non-null   float64       \n",
      " 9   Customer_Type         1000 non-null   object        \n",
      " 10  Discount              1000 non-null   float64       \n",
      " 11  Payment_Method        1000 non-null   object        \n",
      " 12  Sales_Channel         1000 non-null   object        \n",
      " 13  Region_and_Sales_Rep  1000 non-null   object        \n",
      "dtypes: datetime64[ns](1), float64(4), int64(2), object(7)\n",
      "memory usage: 109.5+ KB\n"
     ]
    }
   ],
   "source": [
    "df.info() # kiểu dữ liệu , null count"
   ]
  },
  {
   "cell_type": "code",
   "execution_count": 9,
   "id": "8aa45c4a-62f9-498c-b658-5ee82e5572c7",
   "metadata": {},
   "outputs": [
    {
     "data": {
      "text/html": [
       "<div>\n",
       "<style scoped>\n",
       "    .dataframe tbody tr th:only-of-type {\n",
       "        vertical-align: middle;\n",
       "    }\n",
       "\n",
       "    .dataframe tbody tr th {\n",
       "        vertical-align: top;\n",
       "    }\n",
       "\n",
       "    .dataframe thead th {\n",
       "        text-align: right;\n",
       "    }\n",
       "</style>\n",
       "<table border=\"1\" class=\"dataframe\">\n",
       "  <thead>\n",
       "    <tr style=\"text-align: right;\">\n",
       "      <th></th>\n",
       "      <th>Product_ID</th>\n",
       "      <th>Sale_Date</th>\n",
       "      <th>Sales_Amount</th>\n",
       "      <th>Quantity_Sold</th>\n",
       "      <th>Unit_Cost</th>\n",
       "      <th>Unit_Price</th>\n",
       "      <th>Discount</th>\n",
       "    </tr>\n",
       "  </thead>\n",
       "  <tbody>\n",
       "    <tr>\n",
       "      <th>count</th>\n",
       "      <td>1000.000000</td>\n",
       "      <td>1000</td>\n",
       "      <td>1000.000000</td>\n",
       "      <td>1000.000000</td>\n",
       "      <td>1000.000000</td>\n",
       "      <td>1000.000000</td>\n",
       "      <td>1000.00000</td>\n",
       "    </tr>\n",
       "    <tr>\n",
       "      <th>mean</th>\n",
       "      <td>1050.128000</td>\n",
       "      <td>2023-07-02 17:42:43.199999744</td>\n",
       "      <td>5019.265230</td>\n",
       "      <td>25.355000</td>\n",
       "      <td>2475.304550</td>\n",
       "      <td>2728.440120</td>\n",
       "      <td>0.15239</td>\n",
       "    </tr>\n",
       "    <tr>\n",
       "      <th>min</th>\n",
       "      <td>1001.000000</td>\n",
       "      <td>2023-01-01 00:00:00</td>\n",
       "      <td>100.120000</td>\n",
       "      <td>1.000000</td>\n",
       "      <td>60.280000</td>\n",
       "      <td>167.120000</td>\n",
       "      <td>0.00000</td>\n",
       "    </tr>\n",
       "    <tr>\n",
       "      <th>25%</th>\n",
       "      <td>1024.000000</td>\n",
       "      <td>2023-03-30 00:00:00</td>\n",
       "      <td>2550.297500</td>\n",
       "      <td>13.000000</td>\n",
       "      <td>1238.380000</td>\n",
       "      <td>1509.085000</td>\n",
       "      <td>0.08000</td>\n",
       "    </tr>\n",
       "    <tr>\n",
       "      <th>50%</th>\n",
       "      <td>1051.000000</td>\n",
       "      <td>2023-06-30 12:00:00</td>\n",
       "      <td>5019.300000</td>\n",
       "      <td>25.000000</td>\n",
       "      <td>2467.235000</td>\n",
       "      <td>2696.400000</td>\n",
       "      <td>0.15000</td>\n",
       "    </tr>\n",
       "    <tr>\n",
       "      <th>75%</th>\n",
       "      <td>1075.000000</td>\n",
       "      <td>2023-10-12 00:00:00</td>\n",
       "      <td>7507.445000</td>\n",
       "      <td>38.000000</td>\n",
       "      <td>3702.865000</td>\n",
       "      <td>3957.970000</td>\n",
       "      <td>0.23000</td>\n",
       "    </tr>\n",
       "    <tr>\n",
       "      <th>max</th>\n",
       "      <td>1100.000000</td>\n",
       "      <td>2024-01-01 00:00:00</td>\n",
       "      <td>9989.040000</td>\n",
       "      <td>49.000000</td>\n",
       "      <td>4995.300000</td>\n",
       "      <td>5442.150000</td>\n",
       "      <td>0.30000</td>\n",
       "    </tr>\n",
       "    <tr>\n",
       "      <th>std</th>\n",
       "      <td>29.573505</td>\n",
       "      <td>NaN</td>\n",
       "      <td>2846.790126</td>\n",
       "      <td>14.159006</td>\n",
       "      <td>1417.872546</td>\n",
       "      <td>1419.399839</td>\n",
       "      <td>0.08720</td>\n",
       "    </tr>\n",
       "  </tbody>\n",
       "</table>\n",
       "</div>"
      ],
      "text/plain": [
       "        Product_ID                      Sale_Date  Sales_Amount  \\\n",
       "count  1000.000000                           1000   1000.000000   \n",
       "mean   1050.128000  2023-07-02 17:42:43.199999744   5019.265230   \n",
       "min    1001.000000            2023-01-01 00:00:00    100.120000   \n",
       "25%    1024.000000            2023-03-30 00:00:00   2550.297500   \n",
       "50%    1051.000000            2023-06-30 12:00:00   5019.300000   \n",
       "75%    1075.000000            2023-10-12 00:00:00   7507.445000   \n",
       "max    1100.000000            2024-01-01 00:00:00   9989.040000   \n",
       "std      29.573505                            NaN   2846.790126   \n",
       "\n",
       "       Quantity_Sold    Unit_Cost   Unit_Price    Discount  \n",
       "count    1000.000000  1000.000000  1000.000000  1000.00000  \n",
       "mean       25.355000  2475.304550  2728.440120     0.15239  \n",
       "min         1.000000    60.280000   167.120000     0.00000  \n",
       "25%        13.000000  1238.380000  1509.085000     0.08000  \n",
       "50%        25.000000  2467.235000  2696.400000     0.15000  \n",
       "75%        38.000000  3702.865000  3957.970000     0.23000  \n",
       "max        49.000000  4995.300000  5442.150000     0.30000  \n",
       "std        14.159006  1417.872546  1419.399839     0.08720  "
      ]
     },
     "execution_count": 9,
     "metadata": {},
     "output_type": "execute_result"
    }
   ],
   "source": [
    "df.describe() # mô tả thống kê cho numeric"
   ]
  },
  {
   "cell_type": "code",
   "execution_count": 10,
   "id": "b2a209ba-7b71-4638-9f53-e66e229b621d",
   "metadata": {},
   "outputs": [
    {
     "data": {
      "text/plain": [
       "Product_ID              0\n",
       "Sale_Date               0\n",
       "Sales_Rep               0\n",
       "Region                  0\n",
       "Sales_Amount            0\n",
       "Quantity_Sold           0\n",
       "Product_Category        0\n",
       "Unit_Cost               0\n",
       "Unit_Price              0\n",
       "Customer_Type           0\n",
       "Discount                0\n",
       "Payment_Method          0\n",
       "Sales_Channel           0\n",
       "Region_and_Sales_Rep    0\n",
       "dtype: int64"
      ]
     },
     "execution_count": 10,
     "metadata": {},
     "output_type": "execute_result"
    }
   ],
   "source": [
    "# đếm null theo cột\n",
    "df.isnull().sum()"
   ]
  },
  {
   "cell_type": "code",
   "execution_count": 12,
   "id": "91863222-e38d-47d6-a71c-67e06fb04aa9",
   "metadata": {},
   "outputs": [
    {
     "data": {
      "text/plain": [
       "np.int64(0)"
      ]
     },
     "execution_count": 12,
     "metadata": {},
     "output_type": "execute_result"
    }
   ],
   "source": [
    "# đêm số trùng lặp\n",
    "df.duplicated().sum()"
   ]
  },
  {
   "cell_type": "code",
   "execution_count": 14,
   "id": "c9c1f7e5-ed0e-4830-ba8e-7060557bfea8",
   "metadata": {},
   "outputs": [
    {
     "data": {
      "text/html": [
       "<div>\n",
       "<style scoped>\n",
       "    .dataframe tbody tr th:only-of-type {\n",
       "        vertical-align: middle;\n",
       "    }\n",
       "\n",
       "    .dataframe tbody tr th {\n",
       "        vertical-align: top;\n",
       "    }\n",
       "\n",
       "    .dataframe thead th {\n",
       "        text-align: right;\n",
       "    }\n",
       "</style>\n",
       "<table border=\"1\" class=\"dataframe\">\n",
       "  <thead>\n",
       "    <tr style=\"text-align: right;\">\n",
       "      <th></th>\n",
       "      <th>Product_ID</th>\n",
       "      <th>Sale_Date</th>\n",
       "      <th>Sales_Rep</th>\n",
       "      <th>Region</th>\n",
       "      <th>Sales_Amount</th>\n",
       "      <th>Quantity_Sold</th>\n",
       "      <th>Product_Category</th>\n",
       "      <th>Unit_Cost</th>\n",
       "      <th>Unit_Price</th>\n",
       "      <th>Customer_Type</th>\n",
       "      <th>Discount</th>\n",
       "      <th>Payment_Method</th>\n",
       "      <th>Sales_Channel</th>\n",
       "      <th>Region_and_Sales_Rep</th>\n",
       "    </tr>\n",
       "  </thead>\n",
       "  <tbody>\n",
       "    <tr>\n",
       "      <th>452</th>\n",
       "      <td>1054</td>\n",
       "      <td>2023-10-23</td>\n",
       "      <td>David</td>\n",
       "      <td>South</td>\n",
       "      <td>4392.47</td>\n",
       "      <td>48</td>\n",
       "      <td>Electronics</td>\n",
       "      <td>4325.02</td>\n",
       "      <td>4391.67</td>\n",
       "      <td>Returning</td>\n",
       "      <td>0.16</td>\n",
       "      <td>Credit Card</td>\n",
       "      <td>Retail</td>\n",
       "      <td>South-David</td>\n",
       "    </tr>\n",
       "    <tr>\n",
       "      <th>646</th>\n",
       "      <td>1058</td>\n",
       "      <td>2023-03-02</td>\n",
       "      <td>Eve</td>\n",
       "      <td>East</td>\n",
       "      <td>5463.43</td>\n",
       "      <td>49</td>\n",
       "      <td>Furniture</td>\n",
       "      <td>1307.22</td>\n",
       "      <td>1528.40</td>\n",
       "      <td>Returning</td>\n",
       "      <td>0.24</td>\n",
       "      <td>Cash</td>\n",
       "      <td>Retail</td>\n",
       "      <td>East-Eve</td>\n",
       "    </tr>\n",
       "    <tr>\n",
       "      <th>956</th>\n",
       "      <td>1052</td>\n",
       "      <td>2023-12-22</td>\n",
       "      <td>Charlie</td>\n",
       "      <td>West</td>\n",
       "      <td>2858.57</td>\n",
       "      <td>18</td>\n",
       "      <td>Food</td>\n",
       "      <td>1127.86</td>\n",
       "      <td>1586.29</td>\n",
       "      <td>New</td>\n",
       "      <td>0.04</td>\n",
       "      <td>Credit Card</td>\n",
       "      <td>Online</td>\n",
       "      <td>West-Charlie</td>\n",
       "    </tr>\n",
       "  </tbody>\n",
       "</table>\n",
       "</div>"
      ],
      "text/plain": [
       "     Product_ID  Sale_Date Sales_Rep Region  Sales_Amount  Quantity_Sold  \\\n",
       "452        1054 2023-10-23     David  South       4392.47             48   \n",
       "646        1058 2023-03-02       Eve   East       5463.43             49   \n",
       "956        1052 2023-12-22   Charlie   West       2858.57             18   \n",
       "\n",
       "    Product_Category  Unit_Cost  Unit_Price Customer_Type  Discount  \\\n",
       "452      Electronics    4325.02     4391.67     Returning      0.16   \n",
       "646        Furniture    1307.22     1528.40     Returning      0.24   \n",
       "956             Food    1127.86     1586.29           New      0.04   \n",
       "\n",
       "    Payment_Method Sales_Channel Region_and_Sales_Rep  \n",
       "452    Credit Card        Retail          South-David  \n",
       "646           Cash        Retail             East-Eve  \n",
       "956    Credit Card        Online         West-Charlie  "
      ]
     },
     "execution_count": 14,
     "metadata": {},
     "output_type": "execute_result"
    }
   ],
   "source": [
    "df[df.duplicated(['Product_ID','Sale_Date','Sales_Rep'])]"
   ]
  },
  {
   "cell_type": "code",
   "execution_count": 16,
   "id": "bf80736b-e190-417e-8e14-1dfdfe607f1c",
   "metadata": {},
   "outputs": [
    {
     "name": "stdout",
     "output_type": "stream",
     "text": [
      "Product_ID 100\n",
      "Sales_Rep 5\n",
      "Region 4\n",
      "Customer_Type 2\n",
      "Sales_Channel 2\n",
      "Payment_Method 3\n"
     ]
    }
   ],
   "source": [
    "for col in ['Product_ID','Sales_Rep','Region','Customer_Type','Sales_Channel','Payment_Method']:\n",
    "    print(col, df[col].nunique())"
   ]
  },
  {
   "cell_type": "code",
   "execution_count": 17,
   "id": "44b7dd98-3df5-469c-b531-b06be529e6e1",
   "metadata": {},
   "outputs": [
    {
     "data": {
      "text/plain": [
       "Timestamp('2024-01-01 00:00:00')"
      ]
     },
     "execution_count": 17,
     "metadata": {},
     "output_type": "execute_result"
    }
   ],
   "source": [
    "# kiểm tra ngày bất thường\n",
    "df['Sale_Date'].min()\n",
    "df['Sale_Date'].max()"
   ]
  },
  {
   "cell_type": "code",
   "execution_count": 19,
   "id": "e4c5dfa7-4fb3-420e-b9c9-7539638cfa08",
   "metadata": {},
   "outputs": [
    {
     "data": {
      "text/html": [
       "<div>\n",
       "<style scoped>\n",
       "    .dataframe tbody tr th:only-of-type {\n",
       "        vertical-align: middle;\n",
       "    }\n",
       "\n",
       "    .dataframe tbody tr th {\n",
       "        vertical-align: top;\n",
       "    }\n",
       "\n",
       "    .dataframe thead th {\n",
       "        text-align: right;\n",
       "    }\n",
       "</style>\n",
       "<table border=\"1\" class=\"dataframe\">\n",
       "  <thead>\n",
       "    <tr style=\"text-align: right;\">\n",
       "      <th></th>\n",
       "      <th>Product_ID</th>\n",
       "      <th>Sale_Date</th>\n",
       "      <th>Sales_Rep</th>\n",
       "      <th>Region</th>\n",
       "      <th>Sales_Amount</th>\n",
       "      <th>Quantity_Sold</th>\n",
       "      <th>Product_Category</th>\n",
       "      <th>Unit_Cost</th>\n",
       "      <th>Unit_Price</th>\n",
       "      <th>Customer_Type</th>\n",
       "      <th>Discount</th>\n",
       "      <th>Payment_Method</th>\n",
       "      <th>Sales_Channel</th>\n",
       "      <th>Region_and_Sales_Rep</th>\n",
       "    </tr>\n",
       "  </thead>\n",
       "  <tbody>\n",
       "  </tbody>\n",
       "</table>\n",
       "</div>"
      ],
      "text/plain": [
       "Empty DataFrame\n",
       "Columns: [Product_ID, Sale_Date, Sales_Rep, Region, Sales_Amount, Quantity_Sold, Product_Category, Unit_Cost, Unit_Price, Customer_Type, Discount, Payment_Method, Sales_Channel, Region_and_Sales_Rep]\n",
       "Index: []"
      ]
     },
     "execution_count": 19,
     "metadata": {},
     "output_type": "execute_result"
    }
   ],
   "source": [
    "# giá < 0\n",
    "df[df['Unit_Cost']<0]"
   ]
  },
  {
   "cell_type": "code",
   "execution_count": 20,
   "id": "29339dd3-49ea-4bb1-95e6-cf72860ecf66",
   "metadata": {},
   "outputs": [
    {
     "data": {
      "text/html": [
       "<div>\n",
       "<style scoped>\n",
       "    .dataframe tbody tr th:only-of-type {\n",
       "        vertical-align: middle;\n",
       "    }\n",
       "\n",
       "    .dataframe tbody tr th {\n",
       "        vertical-align: top;\n",
       "    }\n",
       "\n",
       "    .dataframe thead th {\n",
       "        text-align: right;\n",
       "    }\n",
       "</style>\n",
       "<table border=\"1\" class=\"dataframe\">\n",
       "  <thead>\n",
       "    <tr style=\"text-align: right;\">\n",
       "      <th></th>\n",
       "      <th>Product_ID</th>\n",
       "      <th>Sale_Date</th>\n",
       "      <th>Sales_Rep</th>\n",
       "      <th>Region</th>\n",
       "      <th>Sales_Amount</th>\n",
       "      <th>Quantity_Sold</th>\n",
       "      <th>Product_Category</th>\n",
       "      <th>Unit_Cost</th>\n",
       "      <th>Unit_Price</th>\n",
       "      <th>Customer_Type</th>\n",
       "      <th>Discount</th>\n",
       "      <th>Payment_Method</th>\n",
       "      <th>Sales_Channel</th>\n",
       "      <th>Region_and_Sales_Rep</th>\n",
       "    </tr>\n",
       "  </thead>\n",
       "  <tbody>\n",
       "  </tbody>\n",
       "</table>\n",
       "</div>"
      ],
      "text/plain": [
       "Empty DataFrame\n",
       "Columns: [Product_ID, Sale_Date, Sales_Rep, Region, Sales_Amount, Quantity_Sold, Product_Category, Unit_Cost, Unit_Price, Customer_Type, Discount, Payment_Method, Sales_Channel, Region_and_Sales_Rep]\n",
       "Index: []"
      ]
     },
     "execution_count": 20,
     "metadata": {},
     "output_type": "execute_result"
    }
   ],
   "source": [
    "# số lượng đã bán<0\n",
    "df[df['Quantity_Sold']<0]"
   ]
  },
  {
   "cell_type": "code",
   "execution_count": 21,
   "id": "6d80cce6-ed3f-432d-b991-1ea64ada2649",
   "metadata": {},
   "outputs": [
    {
     "data": {
      "text/html": [
       "<div>\n",
       "<style scoped>\n",
       "    .dataframe tbody tr th:only-of-type {\n",
       "        vertical-align: middle;\n",
       "    }\n",
       "\n",
       "    .dataframe tbody tr th {\n",
       "        vertical-align: top;\n",
       "    }\n",
       "\n",
       "    .dataframe thead th {\n",
       "        text-align: right;\n",
       "    }\n",
       "</style>\n",
       "<table border=\"1\" class=\"dataframe\">\n",
       "  <thead>\n",
       "    <tr style=\"text-align: right;\">\n",
       "      <th></th>\n",
       "      <th>Product_ID</th>\n",
       "      <th>Sale_Date</th>\n",
       "      <th>Sales_Rep</th>\n",
       "      <th>Region</th>\n",
       "      <th>Sales_Amount</th>\n",
       "      <th>Quantity_Sold</th>\n",
       "      <th>Product_Category</th>\n",
       "      <th>Unit_Cost</th>\n",
       "      <th>Unit_Price</th>\n",
       "      <th>Customer_Type</th>\n",
       "      <th>Discount</th>\n",
       "      <th>Payment_Method</th>\n",
       "      <th>Sales_Channel</th>\n",
       "      <th>Region_and_Sales_Rep</th>\n",
       "    </tr>\n",
       "  </thead>\n",
       "  <tbody>\n",
       "  </tbody>\n",
       "</table>\n",
       "</div>"
      ],
      "text/plain": [
       "Empty DataFrame\n",
       "Columns: [Product_ID, Sale_Date, Sales_Rep, Region, Sales_Amount, Quantity_Sold, Product_Category, Unit_Cost, Unit_Price, Customer_Type, Discount, Payment_Method, Sales_Channel, Region_and_Sales_Rep]\n",
       "Index: []"
      ]
     },
     "execution_count": 21,
     "metadata": {},
     "output_type": "execute_result"
    }
   ],
   "source": [
    "df[df['Unit_Price']<df['Unit_Cost']]"
   ]
  },
  {
   "cell_type": "code",
   "execution_count": 25,
   "id": "db23d20a-4515-4b96-95fa-0ebc99b4aa4e",
   "metadata": {},
   "outputs": [
    {
     "data": {
      "text/plain": [
       "Product_ID       1050.12800\n",
       "Sales_Amount     5019.26523\n",
       "Quantity_Sold      25.35500\n",
       "Unit_Cost        2475.30455\n",
       "Unit_Price       2728.44012\n",
       "Discount            0.15239\n",
       "dtype: float64"
      ]
     },
     "execution_count": 25,
     "metadata": {},
     "output_type": "execute_result"
    }
   ],
   "source": [
    "df.mean(numeric_only=True)"
   ]
  },
  {
   "cell_type": "code",
   "execution_count": 26,
   "id": "428254b1-980b-4bb7-bf56-4b0636cd4357",
   "metadata": {},
   "outputs": [
    {
     "data": {
      "text/plain": [
       "Product_ID       1100.00\n",
       "Sales_Amount     9989.04\n",
       "Quantity_Sold      49.00\n",
       "Unit_Cost        4995.30\n",
       "Unit_Price       5442.15\n",
       "Discount            0.30\n",
       "dtype: float64"
      ]
     },
     "execution_count": 26,
     "metadata": {},
     "output_type": "execute_result"
    }
   ],
   "source": [
    "df.max(numeric_only=True)"
   ]
  },
  {
   "cell_type": "code",
   "execution_count": 27,
   "id": "3aaf8f6d-ad8b-488e-b794-14b433b0ff47",
   "metadata": {},
   "outputs": [
    {
     "data": {
      "text/plain": [
       "Product_ID       1001.00\n",
       "Sales_Amount      100.12\n",
       "Quantity_Sold       1.00\n",
       "Unit_Cost          60.28\n",
       "Unit_Price        167.12\n",
       "Discount            0.00\n",
       "dtype: float64"
      ]
     },
     "execution_count": 27,
     "metadata": {},
     "output_type": "execute_result"
    }
   ],
   "source": [
    "df.min(numeric_only=True)"
   ]
  },
  {
   "cell_type": "code",
   "execution_count": 28,
   "id": "8d56c64d-ecd9-4b5a-8acd-8620352d8ef6",
   "metadata": {},
   "outputs": [
    {
     "data": {
      "text/plain": [
       "Text(0.5, 1.0, 'Boxplot Unit_Price')"
      ]
     },
     "execution_count": 28,
     "metadata": {},
     "output_type": "execute_result"
    },
    {
     "data": {
      "image/png": "[encoded data removed]",
      "text/plain": [
       "<Figure size 640x480 with 1 Axes>"
      ]
     },
     "metadata": {},
     "output_type": "display_data"
    }
   ],
   "source": [
    "# Boxplot để phát hiện outliers\n",
    "import matplotlib.pyplot as plt\n",
    "plt.boxplot(df['Unit_Price'])\n",
    "plt.title('Boxplot Unit_Price')"
   ]
  },
  {
   "cell_type": "code",
   "execution_count": 29,
   "id": "4ea7eb29-00eb-474f-a9e1-2855fe0def68",
   "metadata": {},
   "outputs": [
    {
     "data": {
      "text/plain": [
       "<Axes: xlabel='Discount', ylabel='Quantity_Sold'>"
      ]
     },
     "execution_count": 29,
     "metadata": {},
     "output_type": "execute_result"
    },
    {
     "data": {
      "image/png": "[encoded data removed]",
      "text/plain": [
       "<Figure size 640x480 with 1 Axes>"
      ]
     },
     "metadata": {},
     "output_type": "display_data"
    }
   ],
   "source": [
    "df.plot.scatter('Discount','Quantity_Sold')"
   ]
  },
  {
   "cell_type": "code",
   "execution_count": null,
   "id": "9ce1f00e-6598-47ee-9473-66cf1d17368b",
   "metadata": {},
   "outputs": [],
   "source": []
  }
 ],
 "metadata": {
  "kernelspec": {
   "display_name": "Python 3 (ipykernel)",
   "language": "python",
   "name": "python3"
  },
  "language_info": {
   "codemirror_mode": {
    "name": "ipython",
    "version": 3
   },
   "file_extension": ".py",
   "mimetype": "text/x-python",
   "name": "python",
   "nbconvert_exporter": "python",
   "pygments_lexer": "ipython3",
   "version": "3.13.5"
  }
 },
 "nbformat": 4,
 "nbformat_minor": 5
}
